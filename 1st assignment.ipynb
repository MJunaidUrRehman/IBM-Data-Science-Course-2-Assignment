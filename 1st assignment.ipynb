{
 "cells": [
  {
   "cell_type": "markdown",
   "id": "415fb94f-4259-41de-9efb-7f817bdfedb5",
   "metadata": {},
   "source": [
    "# Data Science Tools and Ecosystem\n"
   ]
  },
  {
   "cell_type": "markdown",
   "id": "29057541-9305-4cc9-9302-b8c3dcf22e4d",
   "metadata": {},
   "source": [
    "## Introduction\n",
    "This notebook provides an overview of data science tools, languages, and basic operations.\n"
   ]
  },
  {
   "cell_type": "markdown",
   "id": "057f34d6-ea0d-4503-bf3a-846343152141",
   "metadata": {},
   "source": [
    "## Introduction\n",
    "This notebook provides an overview of data science tools, languages, and basic operations.\n"
   ]
  },
  {
   "cell_type": "markdown",
   "id": "e96085d1-b8d6-4351-92d1-26e1f17db628",
   "metadata": {},
   "source": [
    "## Data Science Languages\n",
    "Some of the popular languages for Data Science include:\n",
    "- Python\n",
    "- R\n",
    "- SQL\n",
    "- Julia\n",
    "- Scala\n"
   ]
  },
  {
   "cell_type": "markdown",
   "id": "16904810-90e8-4442-8abc-5dcce62f2e5d",
   "metadata": {},
   "source": [
    "## Data Science Libraries\n",
    "Some commonly used libraries for Data Science are:\n",
    "- NumPy\n",
    "- Pandas\n",
    "- Matplotlib\n",
    "- Scikit-learn\n",
    "- TensorFlow\n"
   ]
  },
  {
   "cell_type": "markdown",
   "id": "cf762bfa-994a-4b4c-99db-5fa88b2b10db",
   "metadata": {},
   "source": [
    "## Data Science Tools\n",
    "| Tool          | Description                   |\n",
    "|--------------|-----------------------------|\n",
    "| Jupyter Notebook | Interactive coding environment |\n",
    "| RStudio       | IDE for R programming       |\n",
    "| Apache Spark  | Big Data processing engine  |\n",
    "| TensorFlow    | Machine Learning framework  |\n",
    "| Tableau       | Data Visualization software |\n"
   ]
  },
  {
   "cell_type": "markdown",
   "id": "e0b6c55f-7c76-45e7-85f4-2abd6cd1d103",
   "metadata": {},
   "source": [
    "## Arithmetic Expression Examples\n",
    "Below are examples of basic arithmetic operations such as addition and multiplication.\n"
   ]
  },
  {
   "cell_type": "code",
   "execution_count": 5,
   "id": "b4541624-551d-48f6-906b-887e4f8762ae",
   "metadata": {},
   "outputs": [
    {
     "data": {
      "text/plain": [
       "17"
      ]
     },
     "execution_count": 5,
     "metadata": {},
     "output_type": "execute_result"
    }
   ],
   "source": [
    "# Multiply and add numbers\n",
    "result = (5 * 3) + 2\n",
    "result\n"
   ]
  },
  {
   "cell_type": "code",
   "execution_count": 6,
   "id": "e807bd71-25b8-4e98-ab25-1baf01cd1dea",
   "metadata": {},
   "outputs": [
    {
     "data": {
      "text/plain": [
       "2.5"
      ]
     },
     "execution_count": 6,
     "metadata": {},
     "output_type": "execute_result"
    }
   ],
   "source": [
    "# Convert minutes to hours\n",
    "minutes = 150\n",
    "hours = minutes / 60\n",
    "hours\n"
   ]
  },
  {
   "cell_type": "markdown",
   "id": "4322ee2e-9787-4c32-8a41-652ccf9e1e91",
   "metadata": {},
   "source": [
    "## Objectives\n",
    "- List popular Data Science languages\n",
    "- Identify common Data Science libraries\n",
    "- Introduce essential Data Science tools\n",
    "- Perform basic arithmetic operations in Python\n"
   ]
  },
  {
   "cell_type": "markdown",
   "id": "d2609794-c504-47d0-9b9d-e42ea6cc076d",
   "metadata": {},
   "source": [
    "## Author\n",
    "**Junaid**\n"
   ]
  },
  {
   "cell_type": "code",
   "execution_count": null,
   "id": "8306302c-f9d0-428f-9a6c-a38b8ca3a886",
   "metadata": {},
   "outputs": [],
   "source": []
  }
 ],
 "metadata": {
  "kernelspec": {
   "display_name": "Python 3 (ipykernel)",
   "language": "python",
   "name": "python3"
  },
  "language_info": {
   "codemirror_mode": {
    "name": "ipython",
    "version": 3
   },
   "file_extension": ".py",
   "mimetype": "text/x-python",
   "name": "python",
   "nbconvert_exporter": "python",
   "pygments_lexer": "ipython3",
   "version": "3.12.8"
  }
 },
 "nbformat": 4,
 "nbformat_minor": 5
}
